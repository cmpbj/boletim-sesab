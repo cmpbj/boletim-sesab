{
  "metadata": {
    "kernelspec": {
      "language": "python",
      "display_name": "Python 3",
      "name": "python3"
    },
    "language_info": {
      "pygments_lexer": "ipython3",
      "nbconvert_exporter": "python",
      "version": "3.6.4",
      "file_extension": ".py",
      "codemirror_mode": {
        "name": "ipython",
        "version": 3
      },
      "name": "python",
      "mimetype": "text/x-python"
    },
    "colab": {
      "name": "boletim-coronav-rus-bahia.ipynb",
      "provenance": []
    }
  },
  "nbformat_minor": 0,
  "nbformat": 4,
  "cells": [
    {
      "cell_type": "code",
      "source": [
        "import re\n",
        "import requests\n",
        "from requests.exceptions import HTTPError\n",
        "from datetime import date\n",
        "from datetime import datetime\n",
        "\n",
        "from docx import Document\n",
        "from docx.shared import Inches\n",
        "from selenium import webdriver\n",
        "from selenium.webdriver.common.by import By"
      ],
      "metadata": {
        "execution": {
          "iopub.status.busy": "2022-03-05T22:13:07.908991Z",
          "iopub.execute_input": "2022-03-05T22:13:07.909356Z",
          "iopub.status.idle": "2022-03-05T22:13:08.228566Z",
          "shell.execute_reply.started": "2022-03-05T22:13:07.909323Z",
          "shell.execute_reply": "2022-03-05T22:13:08.227487Z"
        },
        "trusted": true,
        "id": "ByL075BjhrrV"
      },
      "execution_count": null,
      "outputs": []
    },
    {
      "cell_type": "markdown",
      "source": [
        "**Primeiro, vamos criar um crawler que colherá o conteúdo da página desejada para que possamos coletar os dados**\n"
      ],
      "metadata": {
        "id": "96m5TRsrhrrZ"
      }
    },
    {
      "cell_type": "code",
      "source": [
        "def crawl_website(url: str) -> str:\n",
        "    \n",
        "    try:\n",
        "        pagina = requests.get(url)\n",
        "        pagina.raise_for_status()\n",
        "    except HTTPError as exc:\n",
        "        print(exc)\n",
        "    else:\n",
        "        return pagina.text"
      ],
      "metadata": {
        "execution": {
          "iopub.status.busy": "2022-03-05T22:13:11.391241Z",
          "iopub.execute_input": "2022-03-05T22:13:11.391578Z",
          "iopub.status.idle": "2022-03-05T22:13:11.397444Z",
          "shell.execute_reply.started": "2022-03-05T22:13:11.391547Z",
          "shell.execute_reply": "2022-03-05T22:13:11.396522Z"
        },
        "trusted": true,
        "id": "4xByxpLihrrb"
      },
      "execution_count": null,
      "outputs": []
    },
    {
      "cell_type": "markdown",
      "source": [
        "**Utilizamos a função re.compile para compilar um padrão de expressão regular. A ideia é usar essas expressões para correspondência posterior com o que queremos encontrar no Boletim da Sesab**"
      ],
      "metadata": {
        "id": "xoVjRhmchrrc"
      }
    },
    {
      "cell_type": "code",
      "source": [
        "REGEXP_CASOS = re.compile(\"([0-9.]+) casos confirmados\")\n",
        "REGEXP_MORTES = re.compile(\"([0-9.]+) tiveram óbito confirmado\")\n",
        "REGEXP_NOVOS_CASOS = re.compile(\"Nas últimas 24 horas, foram registrados ([0-9.]+) casos de Covid-19\")\n",
        "REGEXP_NOVAS_MORTES = re.compile(\"e mais ([0-9.]+) óbitos\")\n",
        "REGEXP_RECUPERADOS = re.compile(\"([0-9.]+) já são considerados recuperados\") \n",
        "REGEXP_CASOS_ATIVOS = re.compile(\"([0-9.]+) casos ativos de Covid-19 na Bahia\")\n",
        "REGEXP_CASOS_DESCARTADOS = re.compile(\"([0-9.]+) casos descartados\")\n",
        "REGEXP_CASOS_INVESTIGADOS = re.compile(\"([0-9.]+) em investigação\")\n",
        "REGEXP_VACINACAO_UMA_DOSE = re.compile(\"([0-9.]+) pessoas vacinadas com a primeira dose\")\n",
        "REGEXP_VACINACAO_DUAS_DOSES = re.compile(\"([0-9.]+) com a segunda dose ou dose única\")\n",
        "REGEXP_VACINACAO_DOSE_REFORCO = re.compile(\"([0-9.]+) com a dose de reforço\")\n",
        "REGEXP_VACINACAO_CRIANCAS = re.compile(\"([0-9.]+) crianças já foram imunizadas\")\n",
        "REGEXP_VACINACAO_CRIANCAS_SEGUNDA_DOSE = re.compile(\"([0-9.]+) já tomaram também a segunda dose\")"
      ],
      "metadata": {
        "execution": {
          "iopub.status.busy": "2022-03-05T22:13:15.327196Z",
          "iopub.execute_input": "2022-03-05T22:13:15.328176Z",
          "iopub.status.idle": "2022-03-05T22:13:15.338305Z",
          "shell.execute_reply.started": "2022-03-05T22:13:15.328125Z",
          "shell.execute_reply": "2022-03-05T22:13:15.336854Z"
        },
        "trusted": true,
        "id": "ZZRqqfHjhrrd"
      },
      "execution_count": null,
      "outputs": []
    },
    {
      "cell_type": "markdown",
      "source": [
        "**Agora vamos definir as datas que serão utilizadas para verificar se o boletim publicado pela Sesab é o mais atual e também para escrever nosso texto**"
      ],
      "metadata": {
        "id": "rD2UVHayhrrf"
      }
    },
    {
      "cell_type": "code",
      "source": [
        "DIAS = [\n",
        "    'segunda',\n",
        "    'terça',\n",
        "    'quarta',\n",
        "    'quinta',\n",
        "    'sexta',\n",
        "    'sábado',\n",
        "    'domingo'\n",
        "]\n",
        "\n",
        "#Utilizaremos essa data para verificar se o boletim é o mais atual\n",
        "data_atual = datetime.now()\n",
        "data_em_texto = data_atual.strftime('%d/%m/%Y')\n",
        "\n",
        "#Aqui, precisamos do dia da semana correspondente à data atual para escrever o boletim\n",
        "indice_da_semana = data_atual.weekday()\n",
        "\n",
        "dia_da_semana_por_extenso = DIAS[indice_da_semana]\n",
        "\n",
        "if dia_da_semana_por_extenso == 'sábado' or dia_da_semana_por_extenso == 'domingo':\n",
        "    dia = 'neste ' + dia_da_semana_por_extenso\n",
        "else:\n",
        "    dia = 'nesta ' + dia_da_semana_por_extenso\n",
        "    \n",
        "dia_da_semana = data_atual.day    \n",
        "\n",
        "#Utilizaremos esta ultima data para salvar o documento com a data do dia que ele foi escrito\n",
        "data_do_arquivo = '{}-{}-{}'.format(data_atual.day, data_atual.month, data_atual.year)"
      ],
      "metadata": {
        "execution": {
          "iopub.status.busy": "2022-03-05T22:13:20.819368Z",
          "iopub.execute_input": "2022-03-05T22:13:20.81972Z",
          "iopub.status.idle": "2022-03-05T22:13:20.827008Z",
          "shell.execute_reply.started": "2022-03-05T22:13:20.819687Z",
          "shell.execute_reply": "2022-03-05T22:13:20.826364Z"
        },
        "trusted": true,
        "id": "Y9NNiJEMhrrg"
      },
      "execution_count": null,
      "outputs": []
    },
    {
      "cell_type": "markdown",
      "source": [
        "**Vamos usar o pacote Selenium para navegar no portal onde são publicados os boletins da Sesab e para encontrar o boletim propriamente dito. Para o Selenium funcionar, é preciso baixar o webdriver correspondente a seu navagedor. No caso do Google Chrome, você pode obter o webdriver através desse [link](https://chromedriver.chromium.org/downloads). É importante que esse arquivo esteja na mesma pasta em que estamos rodando esse script. Em seguinda, após abrirmos a página da Sesab, vamos usar a função find_element para encontrar o boletim. Veja aqui a documentação do [Selenium](https://selenium-python.readthedocs.io/locating-elements.html)**"
      ],
      "metadata": {
        "id": "Bp6SkB_Ghrri"
      }
    },
    {
      "cell_type": "code",
      "source": [
        "navegador = webdriver.Chrome()\n",
        "navegador.get('http://www.saude.ba.gov.br/category/emergencias-em-saude/')\n",
        "\n",
        "titulo = navegador.find_element(by=By.PARTIAL_LINK_TEXT, value='casos ativos')"
      ],
      "metadata": {
        "execution": {
          "iopub.status.busy": "2022-03-05T22:17:19.955846Z",
          "iopub.execute_input": "2022-03-05T22:17:19.956133Z",
          "iopub.status.idle": "2022-03-05T22:17:19.994913Z",
          "shell.execute_reply.started": "2022-03-05T22:17:19.956093Z",
          "shell.execute_reply": "2022-03-05T22:17:19.993525Z"
        },
        "trusted": true,
        "id": "9Dg4PnrNhrrk"
      },
      "execution_count": null,
      "outputs": []
    },
    {
      "cell_type": "markdown",
      "source": [
        "**Depois de encontrar o boletim na página, vamos acessá-lo**"
      ],
      "metadata": {
        "id": "9grazzlchrrl"
      }
    },
    {
      "cell_type": "code",
      "source": [
        "titulo.click()\n",
        "\n",
        "#Vamos ver qual a data de publicação do boletim\n",
        "data_hora = navegador.find_element(by=By.TAG_NAME, value='strong')\n",
        "\n",
        "\"\"\"\n",
        "- Se a data do dia for igual a data de publicação, vamos pegar a URL da página e passar o crawler \n",
        "- Depois, utilizamos a função findall do pacote re para encontrar os dados.\n",
        "- Caso a data do dia seja diferente da data da publicação, o programa avisa que o novo \n",
        "boletim ainda não saiu e retorna para a página anterior\n",
        "- Foi preciso transformar as listas encontradas com findall em conjuntos e depois converter \n",
        "em lista novamente para evitar dados duplicados\n",
        "\"\"\"\n",
        "\n",
        "if data_em_texto in data_hora.text:\n",
        "    print(\"O boletim do dia saiu\")\n",
        "    get_url = navegador.current_url\n",
        "    conteudo = crawl_website(url=get_url)\n",
        "    casos = list(set(REGEXP_CASOS.findall(conteudo)))\n",
        "    mortes = list(set(REGEXP_MORTES.findall(conteudo)))\n",
        "    novos_casos = list(set(REGEXP_NOVOS_CASOS.findall(conteudo)))\n",
        "    novas_mortes = list(set(REGEXP_NOVAS_MORTES.findall(conteudo)))\n",
        "    recuperados = list(set(REGEXP_RECUPERADOS.findall(conteudo)))\n",
        "    casos_ativos = list(set(REGEXP_CASOS_ATIVOS.findall(conteudo)))\n",
        "    casos_descartados = list(set(REGEXP_CASOS_DESCARTADOS.findall(conteudo)))\n",
        "    casos_investigacao = list(set(REGEXP_CASOS_INVESTIGADOS.findall(conteudo)))\n",
        "    vacina_uma_dose = list(set(REGEXP_VACINACAO_UMA_DOSE.findall(conteudo)))\n",
        "    vacina_duas_doses = list(set(REGEXP_VACINACAO_DUAS_DOSES.findall(conteudo)))\n",
        "    vacina_reforco = list(set(REGEXP_VACINACAO_DOSE_REFORCO.findall(conteudo)))\n",
        "    vacina_criancas = list(set(REGEXP_VACINACAO_CRIANCAS.findall(conteudo)))\n",
        "    vacina_criancas_segunda_dose = list(set(REGEXP_VACINACAO_CRIANCAS_SEGUNDA_DOSE.findall(conteudo)))\n",
        "else:\n",
        "    print(\"O boletim novo ainda não saiu\")\n",
        "    navegador.back()"
      ],
      "metadata": {
        "id": "vR7SNgPohrrm"
      },
      "execution_count": null,
      "outputs": []
    },
    {
      "cell_type": "markdown",
      "source": [
        "**Com os dados em mãos, agora podemos escrever nosso boletim**"
      ],
      "metadata": {
        "id": "eo90utb9hrro"
      }
    },
    {
      "cell_type": "code",
      "source": [
        "documento = Document()\n",
        "\n",
        "documento.add_paragraph(f'Opção de título 01: Bahia registra {novos_casos[0]} novos casos de Covid-19 e {novas_mortes[0]} mortes em 24 horas')\n",
        "\n",
        "documento.add_paragraph(f'Opção de subtítulo 01: O boletim epidemiológico divulgado pela Sesab {dia} ({dia_da_semana}) mostra que a Bahia atingiu {casos_ativos[0]} casos ativos da doença')\n",
        "\n",
        "documento.add_paragraph(f'Opção de título 02: Bahia registra {casos_ativos[0]} casos ativos de Covid-19 e {novas_mortes[0]} mortes pela doença')\n",
        "\n",
        "documento.add_paragraph(f'Opção de subtítulo 02: Ao todo, são {casos[0]} casos confirmados desde o início da pandemia')\n",
        "\n",
        "documento.add_paragraph(f'A Bahia registrou {novos_casos[0]} novos casos de Covid-19 e {novas_mortes[0]} mortes pela doença nas últimas 24 horas. Segundo o boletim epidemiológico da Secretaria de Saúde do Estado da Bahia (Sesab), divulgado {dia} ({dia_da_semana}), dos {casos[0]} casos confirmados desde o início da pandemia, {recuperados[0]} já são considerados recuperados e {mortes[0]} tiveram morte confirmada.')\n",
        "\n",
        "documento.add_paragraph(f'No estado, atualmente, são {casos_ativos[0]} casos ativos do novo coronavírus, além de {casos_descartados[0]} descartados e {casos_investigacao[0]} em investigação.')\n",
        "\n",
        "documento.add_paragraph('Vacinação')\n",
        "\n",
        "documento.add_paragraph(f'Até o momento temos {vacina_uma_dose[0]} pessoas vacinadas com a primeira dose, {vacina_duas_doses[0]} com a segunda dose ou dose única e {vacina_reforco[0]} com a dose de reforço. Do público de 5 a 11 anos, {vacina_criancas[0]} crianças já foram imunizadas com a primeira dose e {vacina_criancas_segunda_dose[0]} já tomaram a segunda dose do imunizante.')\n",
        "\n",
        "documento.save(f'boletim {data_do_arquivo}')"
      ],
      "metadata": {
        "id": "BcwNr1eihrrp"
      },
      "execution_count": null,
      "outputs": []
    },
    {
      "cell_type": "markdown",
      "source": [
        ""
      ],
      "metadata": {
        "id": "zgwxYdWlhrrr"
      }
    },
    {
      "cell_type": "markdown",
      "source": [
        ""
      ],
      "metadata": {
        "id": "dQbxcACdhrrr"
      }
    },
    {
      "cell_type": "markdown",
      "source": [
        ""
      ],
      "metadata": {
        "id": "1I47MSkVhrrs"
      }
    }
  ]
}