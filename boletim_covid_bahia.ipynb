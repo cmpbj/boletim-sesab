{
 "cells": [
  {
   "cell_type": "code",
   "execution_count": 1,
   "id": "da609b59",
   "metadata": {},
   "outputs": [],
   "source": [
    "# Fazendo o import dos pacotes que serão utilizados\n",
    "\n",
    "import re\n",
    "from urllib.request import urlopen\n",
    "from urllib.error import HTTPError\n",
    "from urllib.error import URLError\n",
    "from datetime import date\n",
    "from datetime import datetime\n",
    "\n",
    "from bs4 import BeautifulSoup\n",
    "from docx import Document\n",
    "from selenium import webdriver\n",
    "from selenium.webdriver.common.by import By\n",
    "from selenium.common.exceptions import NoSuchElementException"
   ]
  },
  {
   "cell_type": "code",
   "execution_count": 2,
   "id": "ac749cd4",
   "metadata": {},
   "outputs": [],
   "source": [
    "# Criando um crawler que colherá o conteúdo da página desejada para que possamos coletar os dados\n",
    "\n",
    "def crawl_website(url: str) -> str:\n",
    "    \n",
    "    try:\n",
    "        html = urlopen(url)\n",
    "        soup = BeautifulSoup(html, 'lxml')\n",
    "        texto = soup.find(id=\"conteudo\")\n",
    "        paragrafo = \"\"\n",
    "        for p in texto.find_all(\"p\"):\n",
    "            p = p.get_text()\n",
    "            paragrafo += p\n",
    "    except HTTPError as exc:\n",
    "        print(exc)\n",
    "    except URLError as exc:\n",
    "        print(exc)\n",
    "    else:\n",
    "        return paragrafo"
   ]
  },
  {
   "cell_type": "markdown",
   "id": "1a015160",
   "metadata": {},
   "source": [
    "* Utilizamos a função re.compile para compilar um padrão de expressão regular. A ideia é usar essas expressões para correspondência posterior com o que queremos encontrar no Boletim da Sesab\n"
   ]
  },
  {
   "cell_type": "code",
   "execution_count": 4,
   "id": "668916f8",
   "metadata": {},
   "outputs": [],
   "source": [
    "REGEXP_CASOS = re.compile(\"([0-9.]+) casos confirmados\")\n",
    "REGEXP_MORTES = re.compile(\"([0-9.]+) tiveram óbito confirmado\")\n",
    "REGEXP_NOVOS_CASOS = re.compile(\"nas últimas 24 horas, foram registrados ([0-9.]+) casos de Covid-19\")\n",
    "REGEXP_NOVAS_MORTES = re.compile(\"e ([0-9.]+) óbit\")\n",
    "REGEXP_RECUPERADOS = re.compile(\"([0-9.]+) já são considerados recuperados\") \n",
    "REGEXP_CASOS_ATIVOS = re.compile(\"([0-9.]+) encontram-se ativos\")\n",
    "REGEXP_CASOS_DESCARTADOS = re.compile(\"([0-9.]+) casos descartados\")\n",
    "REGEXP_CASOS_INVESTIGADOS = re.compile(\"([0-9.]+) em investigação\")\n",
    "REGEXP_VACINACAO_UMA_DOSE = re.compile(\"([0-9.]+) pessoas vacinadas com a primeira dose\")\n",
    "REGEXP_VACINACAO_DUAS_DOSES = re.compile(\"([0-9.]+) com a segunda dose ou dose única\")\n",
    "REGEXP_VACINACAO_DOSE_REFORCO = re.compile(\"([0-9.]+) com a dose de reforço\")\n",
    "REGEXP_VACINACAO_SEGUNDO_REFORCO = re.compile(\"([0-9.]+) com o segundo reforço\")\n",
    "REGEXP_VACINACAO_CRIANCAS = re.compile(\"([0-9.]+) crianças já foram imunizadas\")\n",
    "REGEXP_VACINACAO_CRIANCAS_SEGUNDA_DOSE = re.compile(\"([0-9.]+) já tomaram também a segunda dose\")\n"
   ]
  },
  {
   "cell_type": "markdown",
   "id": "32c76e1b",
   "metadata": {},
   "source": [
    "* Agora vamos definir as datas que serão utilizadas para verificar se o boletim publicado pela Sesab é o mais atual e também para escrever o boletim posteriormente"
   ]
  },
  {
   "cell_type": "code",
   "execution_count": 5,
   "id": "30d1bad8",
   "metadata": {},
   "outputs": [],
   "source": [
    "DIAS = [\n",
    "    'segunda',\n",
    "    'terça',\n",
    "    'quarta',\n",
    "    'quinta',\n",
    "    'sexta',\n",
    "    'sábado',\n",
    "    'domingo'\n",
    "]\n",
    "\n",
    "# Utilizaremos essa data para verificar se o boletim é o mais atual\n",
    "data_atual = datetime.now()\n",
    "data_em_texto = data_atual.strftime('%d/%m/%Y')\n",
    "\n",
    "# Aqui, precisamos do dia da semana correspondente à data atual para escrever o boletim\n",
    "\n",
    "indice_da_semana = data_atual.weekday()\n",
    "\n",
    "dia_da_semana_por_extenso = DIAS[indice_da_semana]\n",
    "\n",
    "if dia_da_semana_por_extenso == 'sábado' or dia_da_semana_por_extenso == 'domingo':\n",
    "    dia = 'neste ' + dia_da_semana_por_extenso\n",
    "else:\n",
    "    dia = 'nesta ' + dia_da_semana_por_extenso\n",
    "\n",
    "dia_da_semana = data_atual.day\n",
    "    \n",
    "# Utilizaremos esta ultima data para salvar o documento com a data do dia que ele foi escrito\n",
    "data_do_arquivo = '{}-{}-{}'.format(data_atual.day, data_atual.month, data_atual.year)"
   ]
  },
  {
   "cell_type": "markdown",
   "id": "e686e3cc",
   "metadata": {},
   "source": [
    "* Vamos usar o pacote Selenium para navegar no portal onde são publicados os boletins da Sesab e para encontrar o boletim propriamente dito. \n",
    "Para o Selenium funcionar, é preciso baixar o webdriver correspondente a seu navagedor. No caso do Google Chrome, você pode obter o webdriver \n",
    "através desse link (https://chromedriver.chromium.org/downloads). É importante que esse arquivo esteja na mesma pasta em que estamos rodando esse script. \n",
    "Em seguinda, após abrirmos a página da Sesab, vamos usar a função find_element para encontrar o boletim. Veja aqui a documentação do Selenium \n",
    "(https://selenium-python.readthedocs.io/locating-elements.html)\n",
    "\n",
    "* Aqui temos alguns padrões de título utilizados pela Sesab. Os boletins costumam conter as palavras 'casos ativos' ou 'Bahia registra', quando há casos registrados naquele dia. Em alguns momentos, quando não há registro de casos nas últimas 24 horas, o título do boletim pode conter as seguintes palavras: 'não registra' ou 'sem registro'.\n",
    "\n",
    "* Aqui, vamos testar o primeiro link e o segundo, verificando, primeiro, se o título contém essas palavras e, posteriormente, se a data de publicação do boletim é a do dia atual."
   ]
  },
  {
   "cell_type": "code",
   "execution_count": 7,
   "id": "35115fbb",
   "metadata": {},
   "outputs": [
    {
     "name": "stdout",
     "output_type": "stream",
     "text": [
      "Bahia registra 2.624 casos de Covid-19 e mais 5 óbitos\n",
      "O boletim saiu\n"
     ]
    }
   ],
   "source": [
    "navegador = webdriver.Chrome()\n",
    "navegador.get('http://www.saude.ba.gov.br/category/emergencias-em-saude/')\n",
    "\n",
    "titulo = navegador.find_element(By.XPATH, '//*[@id=\"conteudo\"]/div/div[2]/div[1]/div/div[2]/div/h2/a')\n",
    "data_hora = navegador.find_element(By.XPATH, '//*[@id=\"conteudo\"]/div/div[2]/div[1]/div/div[2]/div/p[1]')\n",
    "\n",
    "if ('casos ativos' or 'Bahia registra' in titulo.text) and data_em_texto in data_hora.text:\n",
    "    print(titulo.text)\n",
    "    print(\"O boletim saiu\")\n",
    "    titulo.click()\n",
    "    get_url = navegador.current_url\n",
    "elif 'não registra' in titulo.text and data_em_texto in data_hora.text:\n",
    "    print(titulo.text)\n",
    "    print(\"O boletim saiu\")\n",
    "    titulo.click()\n",
    "    get_url = navegador.current_url\n",
    "elif 'sem registro' in titulo.text and data_em_texto in data_hora.text:\n",
    "    print(titulo.text)\n",
    "    print(\"O boletim saiu\")\n",
    "    titulo.click()\n",
    "    get_url = navegador.current_url\n",
    "else:\n",
    "    print('O primeiro link não é o boletim ou não é o boletim do dia')\n",
    "    titulo = navegador.find_element(By.XPATH, '//*[@id=\"conteudo\"]/div/div[2]/div[2]/div/div[2]/div/h2/a')\n",
    "    data_hora = navegador.find_element(By.XPATH, '//*[@id=\"conteudo\"]/div/div[2]/div[2]/div/div[2]/div/p[1]')\n",
    "    \n",
    "    if ('casos ativos' or 'Bahia registra' in titulo.text) and data_em_texto in data_hora.text:\n",
    "        print(titulo.text)\n",
    "        print(\"O boletim saiu\")\n",
    "        titulo.click()\n",
    "        get_url = navegador.current_url\n",
    "    elif 'não registra' in titulo.text and data_em_texto in data_hora.text:\n",
    "        print(titulo.text)\n",
    "        print(\"O boletim saiu\")\n",
    "        titulo.click()\n",
    "        get_url = navegador.current_url\n",
    "    elif 'sem registro' in titulo.text and data_em_texto in data_hora.text:\n",
    "        print(titulo.text)\n",
    "        print(\"O boletim saiu\")\n",
    "        titulo.click()\n",
    "        get_url = navegador.current_url\n",
    "\n",
    "    else:\n",
    "        print('O segundo link também não é o boletim ou não é o boletim do dia')\n"
   ]
  },
  {
   "cell_type": "markdown",
   "id": "0ec57f89",
   "metadata": {},
   "source": [
    "* Caso o boletim do dia tenha sido publicado, vamos coletar os dados."
   ]
  },
  {
   "cell_type": "code",
   "execution_count": 8,
   "id": "65dffe29",
   "metadata": {},
   "outputs": [],
   "source": [
    "conteudo = crawl_website(url=get_url)\n",
    "casos = list(set(REGEXP_CASOS.findall(conteudo)))\n",
    "mortes = list(set(REGEXP_MORTES.findall(conteudo)))\n",
    "novos_casos = list(set(REGEXP_NOVOS_CASOS.findall(conteudo)))\n",
    "novas_mortes = list(set(REGEXP_NOVAS_MORTES.findall(conteudo)))\n",
    "recuperados = list(set(REGEXP_RECUPERADOS.findall(conteudo)))\n",
    "casos_ativos = list(set(REGEXP_CASOS_ATIVOS.findall(conteudo)))\n",
    "casos_descartados = list(set(REGEXP_CASOS_DESCARTADOS.findall(conteudo)))\n",
    "casos_investigacao = list(set(REGEXP_CASOS_INVESTIGADOS.findall(conteudo)))\n",
    "vacina_uma_dose = list(set(REGEXP_VACINACAO_UMA_DOSE.findall(conteudo)))\n",
    "vacina_duas_doses = list(set(REGEXP_VACINACAO_DUAS_DOSES.findall(conteudo)))\n",
    "vacina_reforco = list(set(REGEXP_VACINACAO_DOSE_REFORCO.findall(conteudo)))\n",
    "vacina_segundo_reforco = list(set(REGEXP_VACINACAO_SEGUNDO_REFORCO.findall(conteudo)))\n",
    "vacina_criancas = list(set(REGEXP_VACINACAO_CRIANCAS.findall(conteudo)))\n",
    "vacina_criancas_segunda_dose = list(set(REGEXP_VACINACAO_CRIANCAS_SEGUNDA_DOSE.findall(conteudo)))"
   ]
  },
  {
   "cell_type": "code",
   "execution_count": 9,
   "id": "c6efdb04",
   "metadata": {},
   "outputs": [
    {
     "name": "stdout",
     "output_type": "stream",
     "text": [
      "['1.570.045']\n",
      "['30.024']\n",
      "['2.624']\n",
      "['5']\n",
      "['1.533.075']\n",
      "['6.946']\n",
      "['1.907.228']\n",
      "['342.097']\n",
      "['11.622.227']\n",
      "['10.686.928']\n",
      "['6.292.700']\n",
      "['650.670']\n",
      "['968.998']\n",
      "['550.674']\n"
     ]
    }
   ],
   "source": [
    "print(casos)\n",
    "print(mortes)\n",
    "print(novos_casos)\n",
    "print(novas_mortes)\n",
    "print(recuperados)\n",
    "print(casos_ativos)\n",
    "print(casos_descartados)\n",
    "print(casos_investigacao)\n",
    "print(vacina_uma_dose)\n",
    "print(vacina_duas_doses)\n",
    "print(vacina_reforco)\n",
    "print(vacina_segundo_reforco)\n",
    "print(vacina_criancas)\n",
    "print(vacina_criancas_segunda_dose)"
   ]
  },
  {
   "cell_type": "markdown",
   "id": "40cfab70",
   "metadata": {},
   "source": [
    "* Escrevendo o boletim com os dados coletados"
   ]
  },
  {
   "cell_type": "code",
   "execution_count": 10,
   "id": "0fd51be9",
   "metadata": {},
   "outputs": [
    {
     "data": {
      "text/plain": [
       "<docx.text.paragraph.Paragraph at 0x1f29ff1a700>"
      ]
     },
     "execution_count": 10,
     "metadata": {},
     "output_type": "execute_result"
    }
   ],
   "source": [
    "document = Document()\n",
    "document.add_paragraph(f'Opção de título 01: Bahia registra {novos_casos[0]} novos casos de Covid-19 e {novas_mortes[0]} mortes em 24 horas')\n",
    "document.add_paragraph(f'Opção de subtítulo 01: O boletim epidemiológico divulgado pela Sesab {dia} ({dia_da_semana}) mostra que a Bahia atingiu {casos_ativos[0]} casos ativos da doença')\n",
    "document.add_paragraph(f'Opção de título 02: Bahia registra {casos_ativos[0]} casos ativos de Covid-19 e {novas_mortes[0]} mortes pela doença')\n",
    "document.add_paragraph(f'Opção de subtítulo 02: Ao todo, são {casos[0]} casos confirmados desde o início da pandemia')\n",
    "document.add_paragraph(f'A Bahia registrou {novos_casos[0]} novos casos de Covid-19 e {novas_mortes[0]} mortes pela doença nas últimas 24 horas. Segundo o boletim epidemiológico da Secretaria de Saúde do Estado da Bahia (Sesab), divulgado {dia} ({dia_da_semana}), dos {casos[0]} casos confirmados desde o início da pandemia, {recuperados[0]} já são considerados recuperados e {mortes[0]} tiveram morte confirmada.')\n",
    "document.add_paragraph(f'No estado, atualmente, são {casos_ativos[0]} casos ativos do novo coronavírus, além de {casos_descartados[0]} descartados e {casos_investigacao[0]} em investigação.')\n",
    "document.add_paragraph('Vacinação')\n",
    "document.add_paragraph(f'Até o momento temos {vacina_uma_dose[0]} pessoas vacinadas com a primeira dose, {vacina_duas_doses[0]} com a segunda dose ou dose única, {vacina_reforco[0]} com a dose de reforço e {vacina_segundo_reforco[0]} com o segundo reforço. Do público de 5 a 11 anos, {vacina_criancas[0]} crianças já foram imunizadas com a primeira dose e {vacina_criancas_segunda_dose[0]} já tomaram a segunda dose do imunizante.')"
   ]
  },
  {
   "cell_type": "markdown",
   "id": "c6ad8329",
   "metadata": {},
   "source": [
    "* Salvando o documento"
   ]
  },
  {
   "cell_type": "code",
   "execution_count": 11,
   "id": "2ccc37f6",
   "metadata": {},
   "outputs": [],
   "source": [
    "document.save(f'boletim {data_do_arquivo}.doc')"
   ]
  }
 ],
 "metadata": {
  "kernelspec": {
   "display_name": "Python 3.9.12 ('base')",
   "language": "python",
   "name": "python3"
  },
  "language_info": {
   "codemirror_mode": {
    "name": "ipython",
    "version": 3
   },
   "file_extension": ".py",
   "mimetype": "text/x-python",
   "name": "python",
   "nbconvert_exporter": "python",
   "pygments_lexer": "ipython3",
   "version": "3.9.12"
  },
  "vscode": {
   "interpreter": {
    "hash": "8e76f8642360a3358ab06c318ab18c1161224eb3836609d5c16edea6f6e43dba"
   }
  }
 },
 "nbformat": 4,
 "nbformat_minor": 5
}
